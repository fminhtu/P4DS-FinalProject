{
 "cells": [
  {
   "cell_type": "markdown",
   "id": "732e59a0",
   "metadata": {},
   "source": [
    "# ĐỒ ÁN CUỐI KÌ\n",
    "Môn học: Lập trình khoa học dữ liệu"
   ]
  },
  {
   "cell_type": "markdown",
   "id": "5fe65476",
   "metadata": {},
   "source": [
    "## Thông tin thành viên\n",
    "| STT | Họ tên | MSSV |\n",
    "|:-------|:------:| :------:|\n",
    "|  1  |  Nguyễn Gia Hân | 19127134 |\n",
    "|  2  |  Phạm Minh Tú  | 19127611 |\n"
   ]
  },
  {
   "cell_type": "markdown",
   "id": "7c398217",
   "metadata": {},
   "source": [
    "## I. Import các thư viện cần thiết"
   ]
  },
  {
   "cell_type": "code",
   "execution_count": 1,
   "id": "5dfe13dd",
   "metadata": {},
   "outputs": [],
   "source": [
    "import pandas as pd\n",
    "import numpy as np\n",
    "import matplotlib.pyplot as plt"
   ]
  },
  {
   "cell_type": "markdown",
   "id": "52981eda",
   "metadata": {},
   "source": [
    "## II. Thu thập dữ liệu"
   ]
  },
  {
   "cell_type": "markdown",
   "id": "a39e63c1",
   "metadata": {},
   "source": [
    "### Chủ đề của dữ liệu là gì ? Nguồn của dữ liệu"
   ]
  },
  {
   "cell_type": "code",
   "execution_count": null,
   "id": "77a8a9ab",
   "metadata": {},
   "outputs": [],
   "source": []
  },
  {
   "cell_type": "markdown",
   "id": "267c1147",
   "metadata": {},
   "source": [
    "### Tác giả có cho phép bạn sử dụng dữ liệu? Kiểm tra về giấy phép của dữ liệu"
   ]
  },
  {
   "cell_type": "code",
   "execution_count": null,
   "id": "bd943125",
   "metadata": {},
   "outputs": [],
   "source": []
  },
  {
   "cell_type": "markdown",
   "id": "a47d763a",
   "metadata": {},
   "source": [
    "### Tác giả đã thu thập dữ liệu như thế nào?"
   ]
  },
  {
   "cell_type": "code",
   "execution_count": null,
   "id": "9bb37b18",
   "metadata": {},
   "outputs": [],
   "source": []
  },
  {
   "cell_type": "markdown",
   "id": "3c29ff96",
   "metadata": {},
   "source": [
    "## III. Khám phá dữ liệu"
   ]
  },
  {
   "cell_type": "markdown",
   "id": "f928b76f",
   "metadata": {},
   "source": [
    "### Đọc dữ liệu từ file csv vào dataframe"
   ]
  },
  {
   "cell_type": "code",
   "execution_count": null,
   "id": "cfd1e609",
   "metadata": {},
   "outputs": [],
   "source": []
  },
  {
   "cell_type": "markdown",
   "id": "2cd61860",
   "metadata": {},
   "source": [
    "### Dữ liệu gồm có bao nhiêu dòng và bao nhiêu cột?"
   ]
  },
  {
   "cell_type": "code",
   "execution_count": null,
   "id": "d3ba9e7c",
   "metadata": {},
   "outputs": [],
   "source": []
  },
  {
   "cell_type": "markdown",
   "id": "079f9998",
   "metadata": {},
   "source": [
    "### Mỗi dòng có ý nghĩa gì? Có vấn đề các dòng có ý nghĩa khác nhau không?"
   ]
  },
  {
   "cell_type": "code",
   "execution_count": null,
   "id": "1c735542",
   "metadata": {},
   "outputs": [],
   "source": []
  },
  {
   "cell_type": "markdown",
   "id": "cc19a539",
   "metadata": {},
   "source": [
    "### Dữ liệu có các dòng bị lặp không?"
   ]
  },
  {
   "cell_type": "code",
   "execution_count": null,
   "id": "d075a234",
   "metadata": {},
   "outputs": [],
   "source": []
  },
  {
   "cell_type": "markdown",
   "id": "9fe11a20",
   "metadata": {},
   "source": [
    "### Mỗi cột có ý nghĩa gì?"
   ]
  },
  {
   "cell_type": "code",
   "execution_count": null,
   "id": "b3705261",
   "metadata": {},
   "outputs": [],
   "source": []
  },
  {
   "cell_type": "markdown",
   "id": "0c0ab375",
   "metadata": {},
   "source": [
    "### Mỗi cột hiện đang có kiểu dữ liệu gì? Có cột nào có kiểu dữ liệu chưa phù hợp để có thể xử lý tiếp không?"
   ]
  },
  {
   "cell_type": "code",
   "execution_count": null,
   "id": "42f763f0",
   "metadata": {},
   "outputs": [],
   "source": []
  },
  {
   "cell_type": "markdown",
   "id": "9b8f580f",
   "metadata": {},
   "source": [
    "### Với mỗi cột có kiểu dữ liệu dạng numeric, các giá trị được phân bố như thế nào?\n",
    "Phần trăm các giá trị thiếu là bao nhiêu?  \n",
    "Min? max? Có gì bất thường không?"
   ]
  },
  {
   "cell_type": "code",
   "execution_count": null,
   "id": "0a8ade97",
   "metadata": {},
   "outputs": [],
   "source": []
  },
  {
   "cell_type": "markdown",
   "id": "4a044256",
   "metadata": {},
   "source": [
    "### Với mỗi cột có kiểu dữ liệu dạng categorical, các giá trị được phân bố như thế nào? \n",
    "Phần trăm các giá trị thiếu là bao nhiêu?  \n",
    "Có bao nhiêu giá trị khác nhau? Hiển thị một vài  \n",
    "Có gì bất thường không?"
   ]
  },
  {
   "cell_type": "code",
   "execution_count": null,
   "id": "80de086b",
   "metadata": {},
   "outputs": [],
   "source": []
  },
  {
   "cell_type": "markdown",
   "id": "b059fd69",
   "metadata": {},
   "source": [
    "## IV. Đưa ra các câu hỏi cần trả lời\n",
    "Câu hỏi là gì?  \n",
    "Lợi ích của việc tìm ra câu trả lời là gì?"
   ]
  },
  {
   "cell_type": "code",
   "execution_count": null,
   "id": "22fbdb7a",
   "metadata": {},
   "outputs": [],
   "source": []
  },
  {
   "cell_type": "markdown",
   "id": "71bd8865",
   "metadata": {},
   "source": [
    "## V. Tiền xử lý + phân tích dữ liệu để trả lời từng câu hỏi"
   ]
  },
  {
   "cell_type": "code",
   "execution_count": null,
   "id": "fddd723c",
   "metadata": {},
   "outputs": [],
   "source": []
  },
  {
   "cell_type": "markdown",
   "id": "bf91fc8c",
   "metadata": {},
   "source": [
    "## VI. Reflection\n",
    "Từng thành viên: \n",
    "Bạn đã gặp những khó khăn gì?  \n",
    "Từng thành viên: Bạn đã học được gì?  \n",
    "Nhóm của bạn: Nếu có nhiều thời gian hơn, bạn sẽ làm gì?"
   ]
  },
  {
   "cell_type": "code",
   "execution_count": null,
   "id": "b1d89807",
   "metadata": {},
   "outputs": [],
   "source": []
  },
  {
   "cell_type": "markdown",
   "id": "7b496414",
   "metadata": {},
   "source": [
    "## VII. References"
   ]
  },
  {
   "cell_type": "code",
   "execution_count": null,
   "id": "59e2fdc1",
   "metadata": {},
   "outputs": [],
   "source": []
  }
 ],
 "metadata": {
  "kernelspec": {
   "display_name": "Python 3 (ipykernel)",
   "language": "python",
   "name": "python3"
  },
  "language_info": {
   "codemirror_mode": {
    "name": "ipython",
    "version": 3
   },
   "file_extension": ".py",
   "mimetype": "text/x-python",
   "name": "python",
   "nbconvert_exporter": "python",
   "pygments_lexer": "ipython3",
   "version": "3.8.8"
  },
  "toc": {
   "base_numbering": 1,
   "nav_menu": {},
   "number_sections": false,
   "sideBar": true,
   "skip_h1_title": false,
   "title_cell": "Table of Contents",
   "title_sidebar": "Contents",
   "toc_cell": false,
   "toc_position": {
    "height": "calc(100% - 180px)",
    "left": "10px",
    "top": "150px",
    "width": "303.825px"
   },
   "toc_section_display": true,
   "toc_window_display": true
  }
 },
 "nbformat": 4,
 "nbformat_minor": 5
}
